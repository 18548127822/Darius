{
 "cells": [
  {
   "cell_type": "markdown",
   "metadata": {},
   "source": [
    "# 选择\n",
    "## 布尔类型、数值和表达式\n",
    "![](../Photo/33.png)\n",
    "- 注意：比较运算符的相等是两个等到，一个等到代表赋值\n",
    "- 在Python中可以用整型0来代表False，其他数字来代表True\n",
    "- 后面还会讲到 is 在判断语句中的用发"
   ]
  },
  {
   "cell_type": "code",
   "execution_count": null,
   "metadata": {},
   "outputs": [
    {
     "name": "stdout",
     "output_type": "stream",
     "text": [
      "您当前余额为：100000￥\n"
     ]
    }
   ],
   "source": [
    "print('您当前余额为：100000￥')\n",
    "yu=100000\n",
    "\n",
    "while yu:\n",
    "    qu=eval(input('请输入想要取出的money: '))\n",
    "    if qu <= yu:\n",
    "        yu = yu - qu\n",
    "        print('您还剩',yu,'￥')\n",
    "        \n",
    "    else :\n",
    "        print('当前余额不足，退出系统！')\n",
    "        break"
   ]
  },
  {
   "cell_type": "markdown",
   "metadata": {},
   "source": [
    "## 字符串的比较使用ASCII值"
   ]
  },
  {
   "cell_type": "markdown",
   "metadata": {},
   "source": [
    "## Markdown \n",
    "- https://github.com/younghz/Markdown"
   ]
  },
  {
   "cell_type": "markdown",
   "metadata": {},
   "source": [
    "## EP:\n",
    "- <img src=\"../Photo/34.png\"></img>\n",
    "- 输入一个数字，判断其实奇数还是偶数"
   ]
  },
  {
   "cell_type": "markdown",
   "metadata": {},
   "source": [
    "## 产生随机数字\n",
    "- 函数random.randint(a,b) 可以用来产生一个a和b之间且包括a和b的随机整数"
   ]
  },
  {
   "cell_type": "code",
   "execution_count": 2,
   "metadata": {},
   "outputs": [],
   "source": [
    "import random"
   ]
  },
  {
   "cell_type": "code",
   "execution_count": 3,
   "metadata": {},
   "outputs": [
    {
     "name": "stdout",
     "output_type": "stream",
     "text": [
      " 第 5 排 \n",
      " 第 4 列\n"
     ]
    }
   ],
   "source": [
    "y=random.randint(1,10)\n",
    "x=random.randint(1,5)\n",
    "if y == 9:\n",
    "    x=random.randint(1,6)\n",
    "    print(' 第',x,'排','\\n','第',y,'列')\n",
    "elif y == 10:\n",
    "    x=random.randint(1,4)\n",
    "    print(' 第',x,'排','\\n','第',y,'列')\n",
    "else :\n",
    "    print(' 第',x,'排','\\n','第',y,'列')"
   ]
  },
  {
   "cell_type": "code",
   "execution_count": 100,
   "metadata": {},
   "outputs": [
    {
     "name": "stdout",
     "output_type": "stream",
     "text": [
      "请输入成绩：59\n",
      "不及格！！\n"
     ]
    }
   ],
   "source": [
    "chengji=eval(input('请输入成绩：'))\n",
    "if chengji >= 80:\n",
    "    print('优秀！')\n",
    "elif chengji >= 60:\n",
    "    print('合格')\n",
    "else:\n",
    "    print('不及格！！')"
   ]
  },
  {
   "cell_type": "markdown",
   "metadata": {},
   "source": [
    "##  其他random方法\n",
    "- random.random 返回0.0到1.0之间前闭后开区间的随机浮点\n",
    "- random.randrange(a,b) 前闭后开"
   ]
  },
  {
   "cell_type": "markdown",
   "metadata": {},
   "source": [
    "## EP：\n",
    "- 产生两个随机整数number1和number2，然后显示给用户，使用户输入数字的和，并判定其是否正确\n",
    "- 进阶:写一个随机序号点名程序"
   ]
  },
  {
   "cell_type": "markdown",
   "metadata": {},
   "source": [
    "## if语句\n",
    "- 如果条件正确就执行一个单向if语句，亦即当条件为真的时候才执行if内部的语句\n",
    "- Python有很多选择语句:\n",
    "> - 单向if \n",
    "  - 双向if-else\n",
    "  - 嵌套if\n",
    "  - 多向if-elif-else\n",
    "  \n",
    "- 注意：当语句含有子语句的时候，那么一定至少要有一个缩进，也就是说如果有儿子存在，那么一定要缩进\n",
    "- 切记不可tab键和space混用，单用tab 或者 space\n",
    "- 当你输出的结果是无论if是否为真时都需要显示时，语句应该与if对齐"
   ]
  },
  {
   "cell_type": "markdown",
   "metadata": {},
   "source": [
    "## EP：\n",
    "- 用户输入一个数字，判断其实奇数还是偶数\n",
    "- 进阶：可以查看下4.5实例研究猜生日"
   ]
  },
  {
   "cell_type": "markdown",
   "metadata": {},
   "source": [
    "## 双向if-else 语句\n",
    "- 如果条件为真，那么走if内部语句，否则走else内部语句"
   ]
  },
  {
   "cell_type": "markdown",
   "metadata": {},
   "source": [
    "## EP：\n",
    "- 产生两个随机整数number1和number2，然后显示给用户，使用户输入数字，并判定其是否正确,如果正确打印“you‘re correct”，否则打印正确错误"
   ]
  },
  {
   "cell_type": "markdown",
   "metadata": {},
   "source": [
    "## 嵌套if 和多向if-elif-else\n",
    "![](../Photo/35.png)"
   ]
  },
  {
   "cell_type": "markdown",
   "metadata": {},
   "source": [
    "## EP：\n",
    "- 提示用户输入一个年份，然后显示表示这一年的动物\n",
    "![](../Photo/36.png)\n",
    "- 计算身体质量指数的程序\n",
    "- BMI = 以千克为单位的体重除以以米为单位的身高\n",
    "![](../Photo/37.png)"
   ]
  },
  {
   "cell_type": "code",
   "execution_count": 119,
   "metadata": {},
   "outputs": [
    {
     "name": "stdout",
     "output_type": "stream",
     "text": [
      "请输入您的体重KG ：80\n",
      "请输入您的身高M ：1.74\n",
      "超重\n"
     ]
    }
   ],
   "source": [
    "tizhong=eval(input('请输入您的体重KG ：'))\n",
    "shengao=eval(input('请输入您的身高M ：'))\n",
    "BMI=tizhong/shengao/shengao\n",
    "if BMI < 18.5:\n",
    "    print('超轻')\n",
    "elif BMI < 25.0 and BMI >= 18.5:\n",
    "    print('标准')\n",
    "elif BMI >= 25.0 and BMI < 30.0:\n",
    "    print('超重')\n",
    "else:\n",
    "    print('痴肥')"
   ]
  },
  {
   "cell_type": "code",
   "execution_count": 103,
   "metadata": {},
   "outputs": [
    {
     "name": "stdout",
     "output_type": "stream",
     "text": [
      "请输入一个年份：2018\n",
      "狗\n"
     ]
    }
   ],
   "source": [
    "year=eval(input('请输入一个年份：'))\n",
    "n=year%12\n",
    "if n==0:\n",
    "    print('猴')\n",
    "elif n==1:\n",
    "    print('鸡')  \n",
    "elif n==2:\n",
    "    print('狗')    \n",
    "elif n==3:\n",
    "    print('猪')    \n",
    "elif n==4:\n",
    "    print('鼠')    \n",
    "elif n==5:\n",
    "    print('牛')    \n",
    "elif n==6:\n",
    "    print('虎')    \n",
    "elif n==7:\n",
    "    print('兔')    \n",
    "elif n==8:\n",
    "    print('龙')    \n",
    "elif n==9:\n",
    "    print('蛇')    \n",
    "elif n==10:\n",
    "    print('马')    \n",
    "else :\n",
    "    print('羊')"
   ]
  },
  {
   "cell_type": "code",
   "execution_count": 109,
   "metadata": {},
   "outputs": [
    {
     "name": "stdout",
     "output_type": "stream",
     "text": [
      "请输入一个年份：1996\n",
      "鼠\n"
     ]
    }
   ],
   "source": [
    "year=eval(input('请输入一个年份：'))\n",
    "n=year%12\n",
    "a=['猴','鸡','狗','猪','鼠','牛','虎','兔','龙','蛇','马','羊']\n",
    "print(a[n])"
   ]
  },
  {
   "cell_type": "markdown",
   "metadata": {},
   "source": [
    "## 逻辑运算符\n",
    "![](../Photo/38.png)"
   ]
  },
  {
   "cell_type": "markdown",
   "metadata": {},
   "source": [
    "![](../Photo/39.png)\n",
    "![](../Photo/40.png)"
   ]
  },
  {
   "cell_type": "markdown",
   "metadata": {},
   "source": [
    "## EP：\n",
    "- 判定闰年：一个年份如果能被4整除但不能被100整除，或者能被400整除，那么这个年份就是闰年\n",
    "- 提示用户输入一个年份，并返回是否是闰年\n",
    "- 提示用户输入一个数字，判断其是否为水仙花数"
   ]
  },
  {
   "cell_type": "code",
   "execution_count": null,
   "metadata": {},
   "outputs": [],
   "source": [
    "#闰年"
   ]
  },
  {
   "cell_type": "code",
   "execution_count": 6,
   "metadata": {},
   "outputs": [
    {
     "name": "stdout",
     "output_type": "stream",
     "text": [
      "请输入一个年份：2000\n",
      "闰年\n"
     ]
    }
   ],
   "source": [
    "year=eval(input('请输入一个年份：'))\n",
    "if (year%4 == 0) and (year%100!=0) or (year%400 == 0):\n",
    "    print('闰年')\n",
    "else :\n",
    "    print('平年')"
   ]
  },
  {
   "cell_type": "code",
   "execution_count": 17,
   "metadata": {},
   "outputs": [
    {
     "name": "stdout",
     "output_type": "stream",
     "text": [
      "153\n",
      "370\n",
      "371\n",
      "407\n"
     ]
    }
   ],
   "source": [
    "for i in range(100,1000):\n",
    "    bai=i//100\n",
    "    shi=i%100//10\n",
    "    ge=i%10\n",
    "    sumber=bai**3 + shi**3 + ge**3\n",
    "    if sumber==i:\n",
    "        print(sumber)"
   ]
  },
  {
   "cell_type": "code",
   "execution_count": 18,
   "metadata": {},
   "outputs": [
    {
     "name": "stdout",
     "output_type": "stream",
     "text": [
      "4150\n",
      "4151\n"
     ]
    }
   ],
   "source": [
    "for i in range(1000,10000):\n",
    "    qian=i//1000\n",
    "    bai=i%1000//100\n",
    "    shi=i%100//10\n",
    "    ge=i%10\n",
    "    sumber=qian**5 + bai**5 + shi**5 + ge**5\n",
    "    if sumber==i:\n",
    "        print(sumber)"
   ]
  },
  {
   "cell_type": "markdown",
   "metadata": {},
   "source": [
    "## 实例研究：彩票\n",
    "![](../Photo/41.png)"
   ]
  },
  {
   "cell_type": "code",
   "execution_count": 41,
   "metadata": {},
   "outputs": [
    {
     "name": "stdout",
     "output_type": "stream",
     "text": [
      "63\n",
      "请输入一个两位数66\n",
      "恭喜获得1000美元奖金\n"
     ]
    }
   ],
   "source": [
    "import random\n",
    "sumber=random.randint(10,100)\n",
    "print(sumber)\n",
    "yonghu=eval(input('请输入一个两位数'))\n",
    "sumber1=sumber//10\n",
    "sumber2=sumber%10\n",
    "yonghu1=yonghu//10\n",
    "yonghu2=yonghu%10\n",
    "if yonghu1==sumber1 and yonghu2==sumber2:\n",
    "    print('恭喜获得10000美元奖金')\n",
    "elif yonghu1==sumber2 and yonghu2==sumber1:\n",
    "    print('恭喜获得3000美元奖金')\n",
    "elif yonghu1==sumber2 or yonghu2==sumber1 or yonghu1==sumber1 or yonghu2==sumber2:\n",
    "    print('恭喜获得1000美元奖金')\n",
    "else :\n",
    "    print('很遗憾，没有中奖')"
   ]
  },
  {
   "cell_type": "code",
   "execution_count": 57,
   "metadata": {},
   "outputs": [
    {
     "name": "stdout",
     "output_type": "stream",
     "text": [
      "73\n",
      "请输入一个两位数11\n",
      "很遗憾，没有中奖\n"
     ]
    }
   ],
   "source": [
    "import random\n",
    "sumber=random.randint(10,100)\n",
    "a=str(sumber)\n",
    "print(sumber)\n",
    "yonghu=eval(input('请输入一个两位数'))\n",
    "b=str(yonghu)\n",
    "if a[0]==b[0] and a[1]==b[1]:\n",
    "    print('恭喜获得10000美元奖金')\n",
    "elif a[0]==b[1] and a[1]==b[0]:\n",
    "    print('恭喜获得3000美元奖金')\n",
    "elif a[0]==b[1] or a[1]==b[0] or a[0]==b[0] or a[1]==b[1]:\n",
    "    print('恭喜获得1000美元奖金')\n",
    "else :\n",
    "    print('很遗憾，没有中奖')"
   ]
  },
  {
   "cell_type": "code",
   "execution_count": 59,
   "metadata": {},
   "outputs": [
    {
     "data": {
      "text/plain": [
       "7.0"
      ]
     },
     "execution_count": 59,
     "metadata": {},
     "output_type": "execute_result"
    }
   ],
   "source": [
    "63/9"
   ]
  },
  {
   "cell_type": "markdown",
   "metadata": {},
   "source": [
    "# Homework\n",
    "- 1\n",
    "![](../Photo/42.png)"
   ]
  },
  {
   "cell_type": "code",
   "execution_count": 122,
   "metadata": {},
   "outputs": [
    {
     "data": {
      "text/plain": [
       "2.0"
      ]
     },
     "execution_count": 122,
     "metadata": {},
     "output_type": "execute_result"
    }
   ],
   "source": [
    "import math\n",
    "math.sqrt(4)"
   ]
  },
  {
   "cell_type": "code",
   "execution_count": 4,
   "metadata": {},
   "outputs": [
    {
     "name": "stdout",
     "output_type": "stream",
     "text": [
      "Enter a, b, c : 1,2.0,1\n",
      "The roots is  -1.0\n"
     ]
    }
   ],
   "source": [
    "import math\n",
    "aa,bb,cc=eval(input('Enter a, b, c : '))\n",
    "gen=bb*bb-4*aa*cc\n",
    "if gen > 0:\n",
    "    r1=round(((-bb)+math.sqrt(gen))/2*aa,6)\n",
    "    r2=round(((-bb)-math.sqrt(gen))/2*aa,6)\n",
    "    print('The roots are ',r1,'and',r2)\n",
    "elif gen == 0:\n",
    "    r1=-bb/2*aa\n",
    "    print('The roots is ',r1)\n",
    "else:\n",
    "    print('The equation has no real roots')"
   ]
  },
  {
   "cell_type": "markdown",
   "metadata": {},
   "source": [
    "- 2\n",
    "![](../Photo/43.png)"
   ]
  },
  {
   "cell_type": "code",
   "execution_count": 63,
   "metadata": {},
   "outputs": [
    {
     "name": "stdout",
     "output_type": "stream",
     "text": [
      "加法计算： 19 + 72\n",
      "请计算：91\n",
      "真\n"
     ]
    }
   ],
   "source": [
    "import random\n",
    "sum1=random.randint(0,100)\n",
    "sum2=random.randint(0,100)\n",
    "print('加法计算：',sum1,'+',sum2)\n",
    "number=eval(input('请计算：'))\n",
    "if number==(sum1+sum2):\n",
    "    print('真')\n",
    "else:\n",
    "    print('假')"
   ]
  },
  {
   "cell_type": "markdown",
   "metadata": {},
   "source": [
    "- 3\n",
    "![](../Photo/44.png)"
   ]
  },
  {
   "cell_type": "code",
   "execution_count": 68,
   "metadata": {},
   "outputs": [
    {
     "name": "stdout",
     "output_type": "stream",
     "text": [
      "Enter today's day: 0\n",
      "Enter the number of days elapsed since today: 31\n",
      "Today is Sunday and the future day is  Wednesday\n"
     ]
    }
   ],
   "source": [
    "day=['Sunday','Monday','Tuesday','Wednesday','Thursday','Friday','Saturday']\n",
    "today=eval(input('Enter today\\'s day: '))\n",
    "days=eval(input('Enter the number of days elapsed since today: '))\n",
    "d=(today+days)%7\n",
    "print('Today is',day[today],'and the future day is ',day[d])"
   ]
  },
  {
   "cell_type": "markdown",
   "metadata": {},
   "source": [
    "- 4\n",
    "![](../Photo/45.png)"
   ]
  },
  {
   "cell_type": "code",
   "execution_count": 70,
   "metadata": {},
   "outputs": [
    {
     "name": "stdout",
     "output_type": "stream",
     "text": [
      "请输入三个整数：4,8,2\n",
      "2 4 8\n"
     ]
    }
   ],
   "source": [
    "a,b,c=eval(input('请输入三个整数：'))\n",
    "if a>b and b>c:\n",
    "    print(c,b,a)\n",
    "elif a>c and c>b:\n",
    "    print(b,c,a)\n",
    "elif b>a and a>c:\n",
    "    print(c,a,b)\n",
    "elif b>c and c>a:\n",
    "    print(a,c,b)\n",
    "elif c>a and a>b:\n",
    "    print(b,a,c)\n",
    "else :\n",
    "    print(a,b,c)"
   ]
  },
  {
   "cell_type": "markdown",
   "metadata": {},
   "source": [
    "- 5\n",
    "![](../Photo/46.png)"
   ]
  },
  {
   "cell_type": "code",
   "execution_count": 72,
   "metadata": {},
   "outputs": [
    {
     "name": "stdout",
     "output_type": "stream",
     "text": [
      "Enter weight and price for package 1: 50,24.59\n",
      "Enter weight and price for package 2: 25,11.99\n",
      "Package 2 has the better price.\n"
     ]
    }
   ],
   "source": [
    "weight1,price1=eval(input('Enter weight and price for package 1: '))\n",
    "weight2,price2=eval(input('Enter weight and price for package 2: '))\n",
    "money1=price1/weight1\n",
    "money2=price2/weight2\n",
    "if money1 > money2:\n",
    "    print('Package 2 has the better price.')\n",
    "elif money1==money2:\n",
    "    print('Package 1 to 2.')\n",
    "else :\n",
    "    print('Package 1 has the better price.')"
   ]
  },
  {
   "cell_type": "markdown",
   "metadata": {},
   "source": [
    "- 6\n",
    "![](../Photo/47.png)"
   ]
  },
  {
   "cell_type": "code",
   "execution_count": 116,
   "metadata": {},
   "outputs": [
    {
     "name": "stdout",
     "output_type": "stream",
     "text": [
      "请输入年份和月份：2008,2\n",
      "2008 年 2 月份有29天\n"
     ]
    }
   ],
   "source": [
    "a=1,3,5,7,8,10,12\n",
    "b=4,6,9,11\n",
    "c=2\n",
    "year,month=eval(input('请输入年份和月份：'))\n",
    "if month==a[0] or month==a[1] or month==a[2] or month==a[3] or month==a[4] or month==a[5] or month==a[6]:\n",
    "    print(year,'年',month,'月份有31天')\n",
    "elif month==b[0] or month==b[1] or month==b[2] or month==b[3]:\n",
    "    print(year,'年',month,'月份有30天')\n",
    "elif month==c:\n",
    "    if (year%4 == 0) and (year%100!=0) or (year%400 == 0):\n",
    "        print(year,'年',month,'月份有29天')\n",
    "    else :\n",
    "        print(year,'年',month,'月份有28天')"
   ]
  },
  {
   "cell_type": "markdown",
   "metadata": {},
   "source": [
    "- 7\n",
    "![](../Photo/48.png)"
   ]
  },
  {
   "cell_type": "code",
   "execution_count": 129,
   "metadata": {},
   "outputs": [
    {
     "name": "stdout",
     "output_type": "stream",
     "text": [
      "用户猜测（1、正面，2、反面）：1\n",
      "Game over,猜测错误！\n"
     ]
    }
   ],
   "source": [
    "import random\n",
    "a=random.randint(0,1)\n",
    "guess=eval(input('用户猜测（1、正面，2、反面）：'))\n",
    "if a==guess:\n",
    "    print('Good！猜测成功！！')\n",
    "else:\n",
    "    print('Game over,猜测错误！')"
   ]
  },
  {
   "cell_type": "markdown",
   "metadata": {},
   "source": [
    "- 8\n",
    "![](../Photo/49.png)"
   ]
  },
  {
   "cell_type": "code",
   "execution_count": 133,
   "metadata": {},
   "outputs": [
    {
     "name": "stdout",
     "output_type": "stream",
     "text": [
      "石头剪刀布小游戏（1、剪刀，2、石头，3、布）：1\n",
      "user win!!\n"
     ]
    }
   ],
   "source": [
    "import random\n",
    "computer=random.randint(0,2)\n",
    "user=eval(input('石头剪刀布小游戏（1、剪刀，2、石头，3、布）：'))\n",
    "if computer==user :\n",
    "    print('平局！')\n",
    "elif (computer==0 and user==2) or (computer==1 and user==0) or (computer==2 and user==1):\n",
    "    print('user Game over!!')\n",
    "else :\n",
    "    print('user win!!')"
   ]
  },
  {
   "cell_type": "markdown",
   "metadata": {},
   "source": [
    "- 9\n",
    "![](../Photo/50.png)"
   ]
  },
  {
   "cell_type": "code",
   "execution_count": null,
   "metadata": {},
   "outputs": [],
   "source": [
    "k=eval(input('Enter year (e.g.,2008): '))\n",
    "m=eval(input('Enter month: 1-12 : '))\n",
    "q=eval(input('Enter the day of the month : 1-31 : '))"
   ]
  },
  {
   "cell_type": "code",
   "execution_count": 177,
   "metadata": {},
   "outputs": [
    {
     "name": "stdout",
     "output_type": "stream",
     "text": [
      "Enter year:(e.g.,2008):2012\n",
      "Enter month:1-12:5\n",
      "Enter the day of the month:1-31:12\n",
      "Day of the week is Saturday\n"
     ]
    }
   ],
   "source": [
    "days = {\n",
    "    1:'Sunday',2:'Monday',3:'Tuesday',4:'Wednesday',5:'Thursday',6:'Friday',0:'Saturday'\n",
    "}\n",
    "import math\n",
    "year = eval(input('Enter year:(e.g.,2008):'))\n",
    "month = eval(input('Enter month:1-12:'))\n",
    "dayofmo = eval(input('Enter the day of the month:1-31:'))\n",
    "q = dayofmo\n",
    "if month == 1:\n",
    "    m=13\n",
    "    k = year%100-1\n",
    "elif month == 2:\n",
    "    m = 14\n",
    "    k = year%100-1\n",
    "else:\n",
    "    m = month\n",
    "    k = year%100\n",
    "j = math.floor(year/100)\n",
    "h = (q+math.floor(26*(m+1)/10)+k+math.floor(k/4)+math.floor(j/4)+5*j)%7\n",
    "print('Day of the week is',days[h])"
   ]
  },
  {
   "cell_type": "markdown",
   "metadata": {},
   "source": [
    "- 10\n",
    "![](../Photo/51.png)"
   ]
  },
  {
   "cell_type": "code",
   "execution_count": 170,
   "metadata": {},
   "outputs": [
    {
     "name": "stdout",
     "output_type": "stream",
     "text": [
      "The card you picked is the Jack of 方块\n"
     ]
    }
   ],
   "source": [
    "import random\n",
    "puke=('Ace',2,3,4,5,6,7,8,9,10,'Jack','Queen','King')\n",
    "color=('梅花','红桃','方块','黑桃')\n",
    "number=random.randint(0,51)\n",
    "i=number%12\n",
    "j=i%4\n",
    "print('The card you picked is the',puke[i],'of',color[j])"
   ]
  },
  {
   "cell_type": "markdown",
   "metadata": {},
   "source": [
    "- 11\n",
    "![](../Photo/52.png)"
   ]
  },
  {
   "cell_type": "code",
   "execution_count": 172,
   "metadata": {},
   "outputs": [
    {
     "name": "stdout",
     "output_type": "stream",
     "text": [
      "Enter a tree-digit integer: 123\n",
      "123 is not a palindrome\n"
     ]
    }
   ],
   "source": [
    "number=eval(input('Enter a tree-digit integer: '))\n",
    "bai=number//100\n",
    "ge=number%10\n",
    "if bai == ge:\n",
    "    print(number,'is a palindrome.')\n",
    "else :\n",
    "    print(number,'is not a palindrome')"
   ]
  },
  {
   "cell_type": "markdown",
   "metadata": {},
   "source": [
    "- 12\n",
    "![](../Photo/53.png)"
   ]
  },
  {
   "cell_type": "code",
   "execution_count": 175,
   "metadata": {},
   "outputs": [
    {
     "name": "stdout",
     "output_type": "stream",
     "text": [
      "Enter three edges: 1,1,1\n",
      "The perimeter is 3\n"
     ]
    }
   ],
   "source": [
    "a,b,c=eval(input('Enter three edges: '))\n",
    "num1=a+b\n",
    "num2=a+c\n",
    "num3=b+c\n",
    "if num1>c and num2>b and num3>a:\n",
    "    s=a+b+c\n",
    "    print('The perimeter is',s)\n",
    "else:\n",
    "    print('此三角形不合法！！！')"
   ]
  }
 ],
 "metadata": {
  "kernelspec": {
   "display_name": "Python 3",
   "language": "python",
   "name": "python3"
  },
  "language_info": {
   "codemirror_mode": {
    "name": "ipython",
    "version": 3
   },
   "file_extension": ".py",
   "mimetype": "text/x-python",
   "name": "python",
   "nbconvert_exporter": "python",
   "pygments_lexer": "ipython3",
   "version": "3.6.4"
  }
 },
 "nbformat": 4,
 "nbformat_minor": 2
}
